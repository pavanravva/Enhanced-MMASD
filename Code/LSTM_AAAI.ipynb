{
  "nbformat": 4,
  "nbformat_minor": 0,
  "metadata": {
    "colab": {
      "provenance": [],
      "gpuType": "L4"
    },
    "kernelspec": {
      "name": "python3",
      "display_name": "Python 3"
    },
    "language_info": {
      "name": "python"
    },
    "accelerator": "GPU"
  },
  "cells": [
    {
      "cell_type": "code",
      "execution_count": null,
      "metadata": {
        "id": "lhwa5lnzlcfl"
      },
      "outputs": [],
      "source": [
        "import os\n",
        "import pandas as pd"
      ]
    },
    {
      "cell_type": "code",
      "source": [
        "\n",
        "list_folders = [\n",
        "    '/content/drive/MyDrive/Complete_MMASD_DATA_25_4_2024',\n",
        "\n",
        " ]\n"
      ],
      "metadata": {
        "id": "lG8ygDrtmWz8"
      },
      "execution_count": null,
      "outputs": []
    },
    {
      "cell_type": "code",
      "source": [
        "all_files = []\n",
        "for n in range(0, len(list_folders)):\n",
        "  files_names = os.listdir(list_folders[n])\n",
        "  for m in range(0, len(files_names)):\n",
        "   files_names[m] = os.path.join(list_folders[n], files_names[m])\n",
        "   all_files.append(files_names[m])\n",
        "len(all_files)"
      ],
      "metadata": {
        "colab": {
          "base_uri": "https://localhost:8080/"
        },
        "id": "zYvdPhNRmaRc",
        "outputId": "ca1c3dce-9e8a-4f80-c37a-1f20325a1a16"
      },
      "execution_count": null,
      "outputs": [
        {
          "output_type": "execute_result",
          "data": {
            "text/plain": [
              "13088"
            ]
          },
          "metadata": {},
          "execution_count": 5
        }
      ]
    },
    {
      "cell_type": "code",
      "source": [
        "append_all_ipyn_checkpoints = []\n",
        "for n in range(0, len(all_files)):\n",
        "  if all_files[n].split('/')[-1] == '.ipynb_checkpoints':\n",
        "    append_all_ipyn_checkpoints.append(all_files[n])"
      ],
      "metadata": {
        "id": "Y-NWXebHiX-5"
      },
      "execution_count": null,
      "outputs": []
    },
    {
      "cell_type": "code",
      "source": [
        "import torch\n",
        "from torch.utils.data import Dataset, DataLoader\n",
        "from torchvision.transforms import ToTensor\n",
        "import numpy as np\n",
        "\n",
        "class CustomDataset(Dataset):\n",
        "    def __init__(self, file_list, transform=None):\n",
        "        self.file_list = file_list\n",
        "        self.transform = transform\n",
        "\n",
        "    def __len__(self):\n",
        "        return len(self.file_list)\n",
        "\n",
        "    def __getitem__(self, idx):\n",
        "        data = pd.read_csv(self.file_list[idx])\n",
        "        data = data.dropna()\n",
        "        data = data.iloc[1:]\n",
        "        columns_values = data.columns\n",
        "        if data.columns[0] == 'Unnamed: 0':\n",
        "            data = data.drop('Unnamed: 0', axis=1)\n",
        "\n",
        "        if len(data) < 180:\n",
        "              repeat_times = (180 // len(data)) + 1\n",
        "              data = pd.concat([data] * repeat_times, ignore_index=True)\n",
        "\n",
        "        data = data[:179]\n",
        "\n",
        "        data_miss = data.drop(['ASD_Label', 'Action_Label'], axis = 1)\n",
        "        data_min = data_miss.min()\n",
        "        data_max = data_miss.max()\n",
        "\n",
        "        data_norm = (data_miss - data_min)/ (data_max - data_min)\n",
        "        normalization_data = torch.tensor(data_norm.values, dtype=torch.float)\n",
        "\n",
        "\n",
        "        data_label = data['Action_Label']\n",
        "\n",
        "        #print(data_label)\n",
        "        #if data_label.iloc[0] > 0:\n",
        "        #    data_label = np.repeat(1, len(data))\n",
        "        #    data_label = torch.tensor(data_label, dtype=torch.long)\n",
        "        #else:\n",
        "        data_label = torch.tensor(data_label.values, dtype=torch.long)\n",
        "        return data_label, normalization_data\n",
        "\n",
        "\n",
        "def preprocess(data):\n",
        "    return ToTensor()(data.values)\n",
        "\n",
        "file_list = all_files\n",
        "\n",
        "dataset = CustomDataset(file_list, transform=preprocess)\n",
        "\n",
        "train_size = int(0.8 * len(dataset))\n",
        "val_size = (len(dataset) - train_size) // 2\n",
        "test_size = len(dataset) - train_size - val_size\n",
        "train_dataset, val_dataset, test_dataset = torch.utils.data.random_split(dataset, [train_size, val_size, test_size])\n",
        "\n",
        "batch_size = 64\n",
        "train_loader = DataLoader(train_dataset, batch_size=batch_size, shuffle=True)\n",
        "val_loader = DataLoader(val_dataset, batch_size=batch_size, shuffle=False)\n",
        "test_loader = DataLoader(test_dataset, batch_size=batch_size, shuffle=False)"
      ],
      "metadata": {
        "id": "awIYTTbWmcWA"
      },
      "execution_count": null,
      "outputs": []
    },
    {
      "cell_type": "code",
      "source": [
        "import torch\n",
        "import torch.nn as nn\n",
        "import torch.optim as optim\n",
        "from torch.utils.data import DataLoader\n",
        "\n",
        "class LSTMModel(nn.Module):\n",
        "    def __init__(self, input_size, hidden_size, num_layers, num_classes):\n",
        "        super(LSTMModel, self).__init__()\n",
        "        self.num_layers = num_layers\n",
        "        self.hidden_size = hidden_size\n",
        "        self.lstm = nn.LSTM(input_size, hidden_size, num_layers, batch_first=True)\n",
        "        self.fc = nn.Linear(hidden_size, num_classes)\n",
        "\n",
        "\n",
        "    def forward(self, x):\n",
        "        batch_size = x.size(0)\n",
        "        h0 = torch.zeros(self.num_layers, batch_size, self.hidden_size).to(x.device)\n",
        "        c0 = torch.zeros(self.num_layers, batch_size, self.hidden_size).to(x.device)\n",
        "\n",
        "        out, _ = self.lstm(x, (h0, c0))\n",
        "\n",
        "        out = self.fc(out[:, -1, :])\n",
        "        return out\n",
        "\n",
        "input_size = 75\n",
        "hidden_size = 64\n",
        "num_layers = 4\n",
        "num_classes = 11\n",
        "\n",
        "model = LSTMModel(input_size, hidden_size, num_layers, num_classes)\n",
        "device = torch.device(\"cuda\" if torch.cuda.is_available() else \"cpu\")\n",
        "model.to(device)\n",
        "\n"
      ],
      "metadata": {
        "colab": {
          "base_uri": "https://localhost:8080/"
        },
        "id": "dmMOtP7Epb5R",
        "outputId": "09a505a7-5de6-43c4-9526-b13f4e8f0e58"
      },
      "execution_count": null,
      "outputs": [
        {
          "output_type": "execute_result",
          "data": {
            "text/plain": [
              "LSTMModel(\n",
              "  (lstm): LSTM(75, 64, num_layers=4, batch_first=True)\n",
              "  (fc): Linear(in_features=64, out_features=11, bias=True)\n",
              ")"
            ]
          },
          "metadata": {},
          "execution_count": 45
        }
      ]
    },
    {
      "cell_type": "code",
      "source": [],
      "metadata": {
        "id": "mmoGIg61JLWi"
      },
      "execution_count": null,
      "outputs": []
    },
    {
      "cell_type": "code",
      "source": [
        "criterion = nn.CrossEntropyLoss()\n",
        "optimizer = optim.Adam(model.parameters(), lr=0.001)\n",
        "\n",
        "device = torch.device(\"cuda\" if torch.cuda.is_available() else \"cpu\")\n",
        "print(f'Using device: {device}')\n",
        "\n",
        "\n",
        "import torch\n",
        "import torch.nn as nn\n",
        "import torch.optim as optim\n",
        "\n",
        "model.to(device)\n",
        "\n",
        "num_epochs = 100\n",
        "criterion = nn.CrossEntropyLoss()\n",
        "optimizer = torch.optim.Adam(model.parameters(), lr=0.001)\n",
        "\n",
        "for epoch in range(num_epochs):\n",
        "    model.train()\n",
        "    running_loss = 0.0\n",
        "\n",
        "    for labels, inputs in train_loader:\n",
        "\n",
        "        inputs =  inputs.to(device)\n",
        "        labels = labels.to(device)\n",
        "        labels = labels[:,0]\n",
        "\n",
        "        outputs = model(inputs)\n",
        "        loss = criterion(outputs, labels)\n",
        "\n",
        "        optimizer.zero_grad()\n",
        "        loss.backward()\n",
        "        optimizer.step()\n",
        "\n",
        "        running_loss += loss.item() * inputs.size(0)\n",
        "\n",
        "    train_loss = running_loss / len(train_loader.dataset)\n",
        "\n",
        "    model.eval()\n",
        "    val_running_loss = 0.0\n",
        "    correct = 0\n",
        "    total = 0\n",
        "    with torch.no_grad():\n",
        "        for labels, inputs in val_loader:\n",
        "            inputs = inputs.to(device)\n",
        "            labels =  labels.to(device)\n",
        "            labels = labels[:,0]\n",
        "            outputs = model(inputs)\n",
        "            val_loss = criterion(outputs, labels)\n",
        "            val_running_loss += val_loss.item() * inputs.size(0)\n",
        "\n",
        "            _, predicted = torch.max(outputs, 1)\n",
        "            total += labels.size(0)\n",
        "            correct += (predicted == labels).sum().item()\n",
        "\n",
        "    val_accuracy = 100 * correct / total\n",
        "    print(f'Epoch {epoch+1}, Train Loss: {train_loss:.4f}, Validation Loss: {val_running_loss / len(val_loader.dataset):.4f}, Accuracy: {val_accuracy:.2f}%')\n",
        "\n",
        "    # Save model checkpoint periodically and at the end\n",
        "    if epoch % 10 == 0 or epoch == num_epochs - 1:\n",
        "        torch.save(model.state_dict(), f'/content/drive/MyDrive/New_LSTM_Action_Classification_8_1_2024/lstm_model_epoch_{epoch}.pth')\n",
        "\n",
        "print(\"Training complete!\")\n"
      ],
      "metadata": {
        "colab": {
          "base_uri": "https://localhost:8080/",
          "height": 164
        },
        "id": "tfi1h2jnp9td",
        "outputId": "9d364c6c-7e2e-4fea-ebaa-a7b9fecb414d"
      },
      "execution_count": null,
      "outputs": [
        {
          "output_type": "execute_result",
          "data": {
            "text/plain": [
              "'\\ncriterion = nn.CrossEntropyLoss()\\noptimizer = optim.Adam(model.parameters(), lr=0.001)\\n\\ndevice = torch.device(\"cuda\" if torch.cuda.is_available() else \"cpu\")\\nprint(f\\'Using device: {device}\\')\\n\\n\\nimport torch\\nimport torch.nn as nn\\nimport torch.optim as optim\\n\\nmodel.to(device)\\n\\nnum_epochs = 50\\ncriterion = nn.CrossEntropyLoss()\\noptimizer = torch.optim.Adam(model.parameters(), lr=0.001)\\n\\nfor epoch in range(num_epochs):\\n    model.train()\\n    running_loss = 0.0\\n\\n    for labels, inputs in train_loader:\\n\\n        inputs =  inputs.to(device)\\n        labels = labels.to(device)\\n        labels = labels[:,0]\\n\\n        outputs = model(inputs)\\n        loss = criterion(outputs, labels)\\n\\n        optimizer.zero_grad()\\n        loss.backward()\\n        optimizer.step()\\n\\n        running_loss += loss.item() * inputs.size(0)\\n\\n    train_loss = running_loss / len(train_loader.dataset)\\n\\n    model.eval()\\n    val_running_loss = 0.0\\n    correct = 0\\n    total = 0\\n    with torch.no_grad():\\n        for labels, inputs in val_loader:\\n            inputs = inputs.to(device)\\n            labels =  labels.to(device)\\n            labels = labels[:,0]\\n            outputs = model(inputs)\\n            val_loss = criterion(outputs, labels)\\n            val_running_loss += val_loss.item() * inputs.size(0)\\n\\n            _, predicted = torch.max(outputs, 1)\\n            total += labels.size(0)\\n            correct += (predicted == labels).sum().item()\\n\\n    val_accuracy = 100 * correct / total\\n    print(f\\'Epoch {epoch+1}, Train Loss: {train_loss:.4f}, Validation Loss: {val_running_loss / len(val_loader.dataset):.4f}, Accuracy: {val_accuracy:.2f}%\\')\\n\\n    # Save model checkpoint periodically and at the end\\n    if epoch % 10 == 0 or epoch == num_epochs - 1:\\n        torch.save(model.state_dict(), f\\'/content/drive/MyDrive/New_LSTM_Action_Classification_8_1_2024/lstm_model_epoch_{epoch}.pth\\')\\n\\nprint(\"Training complete!\")\\n'"
            ],
            "application/vnd.google.colaboratory.intrinsic+json": {
              "type": "string"
            }
          },
          "metadata": {},
          "execution_count": 47
        }
      ]
    },
    {
      "cell_type": "code",
      "source": [],
      "metadata": {
        "id": "Sq4YOrXuyaNn"
      },
      "execution_count": null,
      "outputs": []
    },
    {
      "cell_type": "code",
      "source": [
        "import torch\n",
        "from sklearn.metrics import classification_report\n",
        "\n",
        "model.eval()\n",
        "\n",
        "all_labels = []\n",
        "all_predictions = []\n",
        "\n",
        "# No need to compute gradients for evaluation\n",
        "with torch.no_grad():\n",
        "    for labels, videos1 in val_loader:\n",
        "        videos1,  labels = videos1.to(device),  labels.to(device)\n",
        "        outputs = model(videos1)\n",
        "        _, predicted = torch.max(outputs.data, 1)\n",
        "\n",
        "        all_labels.extend(labels.cpu().numpy())\n",
        "        all_predictions.extend(predicted.cpu().numpy())\n",
        "\n",
        "\n",
        "\n",
        "\n",
        "\n",
        "# Generate the classification report\n",
        "report = classification_report(np.array(all_labels)[:,0], all_predictions, target_names=['Arm_Swing',\n",
        "                                                                         'Body_pose',\n",
        "                                                                          'Drumming',\n",
        "                                                                        'Frog_Pose',\n",
        "                                                                        'Marcas_Forward',\n",
        "                                                                         'Marcas_Shaking',\n",
        "                                                                        'Sing_Clap',\n",
        "                                                                         'Squat_Pose',\n",
        "                                                                         'Tree_Pose',\n",
        "                                                                          'Twist_Pose',\n",
        "                                                                         'chest_expansion' ])\n",
        "print(report)"
      ],
      "metadata": {
        "id": "6YupSIB5XQbu",
        "colab": {
          "base_uri": "https://localhost:8080/"
        },
        "outputId": "779f8d01-3baa-4f08-a939-505b0a55c128"
      },
      "execution_count": null,
      "outputs": [
        {
          "output_type": "stream",
          "name": "stdout",
          "text": [
            "                 precision    recall  f1-score   support\n",
            "\n",
            "      Arm_Swing       0.82      0.89      0.85        92\n",
            "      Body_pose       0.91      0.87      0.89       112\n",
            "       Drumming       0.87      0.83      0.85        93\n",
            "      Frog_Pose       0.89      0.85      0.87        95\n",
            " Marcas_Forward       0.83      0.73      0.77       172\n",
            " Marcas_Shaking       0.91      0.91      0.91       127\n",
            "      Sing_Clap       0.86      0.99      0.92       146\n",
            "     Squat_Pose       0.75      0.84      0.79       124\n",
            "      Tree_Pose       0.96      0.83      0.89        89\n",
            "     Twist_Pose       0.89      0.85      0.87       150\n",
            "chest_expansion       0.81      0.88      0.85       109\n",
            "\n",
            "       accuracy                           0.86      1309\n",
            "      macro avg       0.86      0.86      0.86      1309\n",
            "   weighted avg       0.86      0.86      0.86      1309\n",
            "\n"
          ]
        }
      ]
    },
    {
      "cell_type": "code",
      "source": [],
      "metadata": {
        "id": "Ya9DeoqeVb7R"
      },
      "execution_count": null,
      "outputs": []
    },
    {
      "cell_type": "code",
      "source": [],
      "metadata": {
        "id": "VaXQrrfJWHxi"
      },
      "execution_count": null,
      "outputs": []
    }
  ]
}