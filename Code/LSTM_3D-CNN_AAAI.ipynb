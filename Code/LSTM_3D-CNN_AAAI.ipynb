{
 "cells": [
  {
   "cell_type": "code",
   "execution_count": 2,
   "id": "d62ea823",
   "metadata": {},
   "outputs": [],
   "source": [
    "import os\n",
    "import cv2\n",
    "import torch\n",
    "import torch.nn as nn\n",
    "import torch.optim as optim\n",
    "from torch.utils.data import Dataset, DataLoader, Subset, TensorDataset\n",
    "import numpy as np\n",
    "import torch.nn.functional as F\n",
    "import pandas as pd"
   ]
  },
  {
   "cell_type": "code",
   "execution_count": 3,
   "id": "a1add973",
   "metadata": {},
   "outputs": [],
   "source": [
    "class CustomVideoDataset(Dataset):\n",
    "    def __init__(self, video_folders_list, num_frames, frame_height, frame_width):\n",
    "        \n",
    "        self.video_files_1 =  video_folders_list\n",
    "    \n",
    "        self.num_frames = num_frames\n",
    "        self.frame_height = frame_height\n",
    "        self.frame_width = frame_width\n",
    "\n",
    "    def __len__(self):\n",
    "        return len(self.video_files_1)\n",
    "\n",
    "    def __getitem__(self, idx):\n",
    "        \n",
    "        optical_flow_video = 'Complete_Files_Optical_Together' +  '/' + self.video_files_1[idx] + '.mp4'\n",
    "        Lstm_Data_Normalized = 'Complete_3D_Skeleton_Data_Star' + '/' + self.video_files_1[idx] + '.csv'\n",
    "\n",
    "        video_path_1 = optical_flow_video\n",
    "        lstm_path = Lstm_Data_Normalized\n",
    "\n",
    "        frames_1 = self._load_frames(video_path_1)\n",
    "        lstm_data = self._load_dataframe(lstm_path)\n",
    "\n",
    "        \n",
    "        video_action = '_'.join(self.video_files_1[idx].split('_')[:2])\n",
    "        label = 0\n",
    "        action_to_label = {\n",
    "            'processed_Arm': 0, 'processed_bs': 1, 'processed_ce': 2, 'processed_dr': 3,\n",
    "            'processed_fg': 4, 'processed_mfs': 5, 'processed_ms': 6,\n",
    "            'processed_sq': 7, 'processed_tw': 8, 'processed_sac': 9, 'processed_tr': 10\n",
    "        }\n",
    "        \n",
    "        label = action_to_label.get(video_action, label)\n",
    "        label = torch.tensor(label, dtype=torch.long)\n",
    "\n",
    "        return frames_1, lstm_data, label\n",
    "\n",
    "    def _load_frames(self, video_path):\n",
    "        cap = cv2.VideoCapture(video_path)\n",
    "        frames = []\n",
    "        while True:\n",
    "            ret, frame = cap.read()\n",
    "            if not ret:\n",
    "                break\n",
    "            frame = cv2.cvtColor(frame, cv2.COLOR_BGR2GRAY)  # Explicitly convert to grayscale\n",
    "            frame = cv2.resize(frame, (self.frame_width, self.frame_height))  # Resizing the frame\n",
    "            frames.append(frame)\n",
    "            if len(frames) == self.num_frames:\n",
    "                break\n",
    "        cap.release()\n",
    "\n",
    "        # Handle case where video is shorter than num_frames\n",
    "        while len(frames) < self.num_frames:\n",
    "            frames.append(np.zeros((self.frame_height, self.frame_width), dtype=np.float32))  # Gray frame\n",
    "\n",
    "        video_tensor = torch.tensor(np.stack(frames, axis=0)).unsqueeze(1).float() / 255  # Convert to torch tensor and normalize to [0,1]\n",
    "        video_tensor = video_tensor.permute(1, 0, 2, 3)  # Reorder dimensions to [1, 16, 224, 224]\n",
    "\n",
    "        return video_tensor\n",
    "    \n",
    "    def _load_dataframe(self, lstm_path):\n",
    "        \n",
    "        df = pd.read_csv(lstm_path)\n",
    "        df = df.drop(['Action_Label', 'ASD_Label'], axis = 1)\n",
    "        df_min = df.min().min()\n",
    "        df_max = df.max().max()\n",
    "        \n",
    "        normalized_data = (df - df_min)/(df_max - df_min)\n",
    "        \n",
    "        data_array = normalized_data.values\n",
    "\n",
    "        data_tensor = torch.tensor(data_array, dtype=torch.float)  \n",
    "        return data_tensor\n",
    "    \n",
    "    \n",
    "    "
   ]
  },
  {
   "cell_type": "code",
   "execution_count": 4,
   "id": "a54f29db",
   "metadata": {},
   "outputs": [],
   "source": [
    "video_folder_optical_flow =  'Complete_Files_Optical_Together'\n",
    "lstm_table_data = 'Complete_3D_Skeleton_Data_Star'\n",
    "\n",
    "list_files_optical_flow = os.listdir(video_folder_optical_flow)\n",
    "list_files_lstm_data = os.listdir(lstm_table_data)\n"
   ]
  },
  {
   "cell_type": "code",
   "execution_count": 5,
   "id": "f3ff4413",
   "metadata": {},
   "outputs": [
    {
     "data": {
      "text/plain": [
       "'processed_mfs_40543_D8_001_n_3_0.mp4'"
      ]
     },
     "execution_count": 5,
     "metadata": {},
     "output_type": "execute_result"
    }
   ],
   "source": [
    "list_files_optical_flow[0]"
   ]
  },
  {
   "cell_type": "code",
   "execution_count": 6,
   "id": "9130e833",
   "metadata": {},
   "outputs": [],
   "source": [
    "list_files_optical_flow.remove('.ipynb_checkpoints')"
   ]
  },
  {
   "cell_type": "code",
   "execution_count": 7,
   "id": "3a0cc858",
   "metadata": {},
   "outputs": [],
   "source": [
    "complete_final_list = []\n",
    "for n in range(0, len(list_files_optical_flow)):\n",
    "    if list_files_optical_flow[n].split('.')[0]+'.csv' in list_files_lstm_data:\n",
    "        complete_final_list.append(list_files_optical_flow[n].split('.')[0])"
   ]
  },
  {
   "cell_type": "code",
   "execution_count": 8,
   "id": "6c16a1eb",
   "metadata": {},
   "outputs": [
    {
     "data": {
      "text/plain": [
       "3229"
      ]
     },
     "execution_count": 8,
     "metadata": {},
     "output_type": "execute_result"
    }
   ],
   "source": [
    "len(complete_final_list)"
   ]
  },
  {
   "cell_type": "code",
   "execution_count": 9,
   "id": "d99f4b0a",
   "metadata": {},
   "outputs": [],
   "source": [
    "num_frames = 40\n",
    "frame_height = 200\n",
    "frame_width = 200"
   ]
  },
  {
   "cell_type": "code",
   "execution_count": 10,
   "id": "dc089bd9",
   "metadata": {},
   "outputs": [],
   "source": [
    "dataset = CustomVideoDataset(video_folders_list=complete_final_list, num_frames=num_frames, frame_height=frame_height, frame_width=frame_width)\n",
    "\n",
    "validation_split = 0.2\n",
    "shuffle_dataset = True\n",
    "\n",
    "dataset_size = len(dataset)\n",
    "indices = list(range(dataset_size))\n",
    "split = int(np.floor(validation_split * dataset_size))\n",
    "\n",
    "if shuffle_dataset:\n",
    "    np.random.shuffle(indices)\n",
    "\n",
    "train_indices, val_indices = indices[split:], indices[:split]\n",
    "\n",
    "train_dataset = Subset(dataset, train_indices)\n",
    "val_dataset = Subset(dataset, val_indices)\n",
    "\n",
    "batch_size = 16\n",
    "\n",
    "train_loader = DataLoader(train_dataset, batch_size=batch_size, shuffle=True)\n",
    "val_loader = DataLoader(val_dataset, batch_size=batch_size, shuffle=False)"
   ]
  },
  {
   "cell_type": "code",
   "execution_count": 12,
   "id": "0fb41ff4",
   "metadata": {},
   "outputs": [],
   "source": [
    "class LSTMModel(nn.Module):\n",
    "    def __init__(self, input_size, hidden_size, num_layers, num_classes= 512):\n",
    "        super(LSTMModel, self).__init__()\n",
    "        self.num_layers = num_layers\n",
    "        self.hidden_size = hidden_size\n",
    "        self.lstm = nn.LSTM(input_size, hidden_size, num_layers, batch_first=True)\n",
    "        self.fc = nn.Linear(hidden_size, 512)\n",
    "\n",
    "\n",
    "    def forward(self, x):\n",
    "        batch_size = x.size(0)\n",
    "        h0 = torch.zeros(self.num_layers, batch_size, self.hidden_size).to(x.device)\n",
    "        c0 = torch.zeros(self.num_layers, batch_size, self.hidden_size).to(x.device)\n",
    "\n",
    "        out, _ = self.lstm(x, (h0, c0))\n",
    "\n",
    "        out = self.fc(out[:, -1, :])\n",
    "        return out\n",
    "\n",
    "input_size = 75\n",
    "hidden_size = 64\n",
    "num_layers = 4\n",
    "num_classes = 11\n",
    "\n",
    "\n"
   ]
  },
  {
   "cell_type": "code",
   "execution_count": 13,
   "id": "9827a252",
   "metadata": {},
   "outputs": [],
   "source": [
    "class ResidualBlock(nn.Module):\n",
    "    def __init__(self, in_channels, out_channels, stride=1):\n",
    "        super(ResidualBlock, self).__init__()\n",
    "        self.conv1 = nn.Conv3d(in_channels, out_channels, kernel_size=3, stride=stride, padding=1)\n",
    "        self.bn1 = nn.BatchNorm3d(out_channels)\n",
    "        self.relu = nn.ReLU(inplace=True)\n",
    "        self.conv2 = nn.Conv3d(out_channels, out_channels, kernel_size=3, stride=1, padding=1)\n",
    "        self.bn2 = nn.BatchNorm3d(out_channels)\n",
    "\n",
    "        self.shortcut = nn.Sequential()\n",
    "        if stride != 1 or in_channels != out_channels:\n",
    "            self.shortcut = nn.Sequential(\n",
    "                nn.Conv3d(in_channels, out_channels, kernel_size=1, stride=stride),\n",
    "                nn.BatchNorm3d(out_channels)\n",
    "            )\n",
    "\n",
    "    def forward(self, x):\n",
    "        out = self.relu(self.bn1(self.conv1(x)))\n",
    "        out = self.bn2(self.conv2(out))\n",
    "        out += self.shortcut(x)\n",
    "        out = self.relu(out)\n",
    "        return out\n",
    "\n",
    "# ResNet3D Model\n",
    "class ResNet3D(nn.Module):\n",
    "    def __init__(self, block, layers, num_classes=512):\n",
    "        super(ResNet3D, self).__init__()\n",
    "        self.in_channels = 64\n",
    "        self.conv1 = nn.Conv3d(1, 64, kernel_size=7, stride=2, padding=3)\n",
    "        self.bn1 = nn.BatchNorm3d(64)\n",
    "        self.relu = nn.ReLU(inplace=True)\n",
    "        self.maxpool = nn.MaxPool3d(kernel_size=3, stride=2, padding=1)\n",
    "\n",
    "        self.layer1 = self.make_layer(block, 64, layers[0], stride=1)\n",
    "        self.layer2 = self.make_layer(block, 128, layers[1], stride=2)\n",
    "        self.layer3 = self.make_layer(block, 256, layers[2], stride=2)\n",
    "        self.layer4 = self.make_layer(block, 512, layers[3], stride=2)\n",
    "\n",
    "        self.global_avg_pool = nn.AdaptiveAvgPool3d((1, 1, 1))\n",
    "        self.fc = nn.Linear(512, num_classes)\n",
    "\n",
    "    def make_layer(self, block, out_channels, blocks, stride):\n",
    "        strides = [stride] + [1] * (blocks - 1)\n",
    "        layers = []\n",
    "        for stride in strides:\n",
    "            layers.append(block(self.in_channels, out_channels, stride))\n",
    "            self.in_channels = out_channels\n",
    "        return nn.Sequential(*layers)\n",
    "\n",
    "    def forward(self, x):\n",
    "        x = self.relu(self.bn1(self.conv1(x)))\n",
    "        x = self.maxpool(x)\n",
    "\n",
    "        x = self.layer1(x)\n",
    "        x = self.layer2(x)\n",
    "        x = self.layer3(x)\n",
    "        x = self.layer4(x)\n",
    "\n",
    "        x = self.global_avg_pool(x)\n",
    "        x = x.view(x.size(0), -1)\n",
    "        return x\n",
    "\n",
    "def resnet3d():\n",
    "    return ResNet3D(ResidualBlock, [2, 2, 2, 2])\n"
   ]
  },
  {
   "cell_type": "code",
   "execution_count": 15,
   "id": "a2d4b314",
   "metadata": {},
   "outputs": [],
   "source": [
    "# Define two ResNet3D models\n",
    "device = torch.device(\"cuda\" if torch.cuda.is_available() else \"cpu\")\n",
    "model1_Optical_Flow= resnet3d().to(device)\n",
    "model_Lstm = LSTMModel(input_size, hidden_size, num_layers, num_classes)\n"
   ]
  },
  {
   "cell_type": "code",
   "execution_count": 21,
   "id": "f835f01b",
   "metadata": {},
   "outputs": [],
   "source": [
    "class Attention(nn.Module):\n",
    "    def __init__(self, feature_dim, num_heads):\n",
    "        super(Attention, self).__init__()\n",
    "        self.multihead_attn = nn.MultiheadAttention(embed_dim=feature_dim, num_heads=num_heads, batch_first=True)\n",
    "        self.layer_norm = nn.LayerNorm(feature_dim)\n",
    "        \n",
    "    def forward(self, x):\n",
    "        attn_output, _ = self.multihead_attn(x, x, x)\n",
    "        attn_output = self.layer_norm(attn_output + x)\n",
    "        return attn_output.mean(dim=1)  # Aggregate across the sequence dimension\n"
   ]
  },
  {
   "cell_type": "code",
   "execution_count": 22,
   "id": "3397c6e3",
   "metadata": {},
   "outputs": [],
   "source": [
    "class CombinedModelWithAttention(nn.Module):\n",
    "    def __init__(self, model1, model2, feature_dim=512, num_heads=8, num_classes=11):\n",
    "        super(CombinedModelWithAttention, self).__init__()\n",
    "        self.model1 = model1\n",
    "        self.model2 = model2\n",
    "        self.attention = Attention(feature_dim * 2, num_heads)  # feature_dim * 2 because of concatenation\n",
    "        self.fc_combined = nn.Linear(feature_dim * 2, num_classes)  # Assuming the output of each model is a 512-dimensional feature vector\n",
    "\n",
    "    def forward(self, x1, x2):\n",
    "        features1 = self.model1(x1)  # [batch_size, 512]\n",
    "        features2 = self.model2(x2)  # [batch_size, 512]\n",
    "        combined_features = torch.cat((features1, features2), dim=1) # [batch_size, 1024]\n",
    "        combined_features = combined_features.unsqueeze(1)  # [batch_size, 1, 1024]\n",
    "        attended_features = self.attention(combined_features)  # [batch_size, 1024]\n",
    "        out = self.fc_combined(attended_features)  # [batch_size, num_classes]\n",
    "        return out\n"
   ]
  },
  {
   "cell_type": "code",
   "execution_count": 23,
   "id": "b1530218",
   "metadata": {},
   "outputs": [],
   "source": [
    "combined_model_with_attention = CombinedModelWithAttention(model1_Optical_Flow, model_Lstm).to(device)\n"
   ]
  },
  {
   "cell_type": "code",
   "execution_count": 24,
   "id": "d55cf031",
   "metadata": {},
   "outputs": [
    {
     "name": "stdout",
     "output_type": "stream",
     "text": [
      "Epoch [0/1], Train Loss: 0.2716, Validation Loss: 0.1259, Validation Accuracy: 96.90%\n"
     ]
    }
   ],
   "source": [
    "criterion = nn.CrossEntropyLoss()\n",
    "optimizer = optim.Adam(combined_model_with_attention.parameters(), lr=0.0001)\n",
    "\n",
    "num_epochs = 100\n",
    "\n",
    "for epoch in range(num_epochs):\n",
    "    combined_model_with_attention.train()\n",
    "    running_loss = 0.0\n",
    "    for videos1, videos2, labels in train_loader:\n",
    "        videos1, videos2, labels = videos1.to(device), videos2.to(device), labels.to(device)\n",
    "\n",
    "        optimizer.zero_grad()\n",
    "\n",
    "        outputs = combined_model_with_attention(videos1, videos2)\n",
    "        loss = criterion(outputs, labels)\n",
    "        loss.backward()\n",
    "        optimizer.step()\n",
    "\n",
    "        running_loss += loss.item()\n",
    "\n",
    "    combined_model_with_attention.eval()\n",
    "    val_loss = 0.0\n",
    "    correct = 0\n",
    "    total = 0\n",
    "    with torch.no_grad():\n",
    "        for videos1, videos2, labels in val_loader:\n",
    "            videos1, videos2, labels = videos1.to(device), videos2.to(device), labels.to(device)\n",
    "            outputs = combined_model_with_attention(videos1, videos2)\n",
    "            loss = criterion(outputs, labels)\n",
    "            val_loss += loss.item()\n",
    "\n",
    "            _, predicted = torch.max(outputs.data, 1)\n",
    "            total += labels.size(0)\n",
    "            correct += (predicted == labels).sum().item()\n",
    "\n",
    "    train_loss = running_loss / len(train_loader)\n",
    "    val_loss = val_loss / len(val_loader)\n",
    "    val_accuracy = 100 * correct / total\n",
    "    \n",
    "\n",
    "    print(f\"Epoch [{epoch}/{num_epochs}], Train Loss: {train_loss:.4f}, \"\n",
    "          f\"Validation Loss: {val_loss:.4f}, Validation Accuracy: {val_accuracy:.2f}%\")"
   ]
  },
  {
   "cell_type": "code",
   "execution_count": 25,
   "id": "00cccb0e",
   "metadata": {},
   "outputs": [],
   "source": [
    "import torch\n",
    "from sklearn.metrics import classification_report\n",
    "\n",
    "# Assuming the following variables are already defined:\n",
    "# combined_model_with_attention, val_loader, device, action_to_label\n",
    "\n",
    "# Ensure the model is in evaluation mode\n",
    "combined_model_with_attention.eval()\n",
    "\n",
    "all_labels = []\n",
    "all_predictions = []\n",
    "\n",
    "# No need to compute gradients for evaluation\n",
    "with torch.no_grad():\n",
    "    for videos1, videos2, labels in val_loader:\n",
    "        videos1, videos2, labels = videos1.to(device), videos2.to(device), labels.to(device)\n",
    "        outputs = combined_model_with_attention(videos1, videos2)\n",
    "        _, predicted = torch.max(outputs.data, 1)\n",
    "\n",
    "        all_labels.extend(labels.cpu().numpy())\n",
    "        all_predictions.extend(predicted.cpu().numpy())\n"
   ]
  },
  {
   "cell_type": "code",
   "execution_count": 26,
   "id": "c32ec98a",
   "metadata": {},
   "outputs": [
    {
     "name": "stdout",
     "output_type": "stream",
     "text": [
      "               precision    recall  f1-score   support\n",
      "\n",
      "processed_Arm       0.98      1.00      0.99        44\n",
      " processed_bs       0.95      1.00      0.97        37\n",
      " processed_ce       0.97      0.95      0.96        37\n",
      " processed_dr       0.98      0.96      0.97        92\n",
      " processed_fg       0.98      0.93      0.96        60\n",
      "processed_mfs       0.99      0.96      0.97        70\n",
      " processed_ms       0.99      0.97      0.98        76\n",
      " processed_sq       0.98      0.98      0.98        47\n",
      " processed_tw       0.97      0.98      0.97        58\n",
      "processed_sac       0.88      0.98      0.93        59\n",
      " processed_tr       1.00      0.97      0.98        65\n",
      "\n",
      "     accuracy                           0.97       645\n",
      "    macro avg       0.97      0.97      0.97       645\n",
      " weighted avg       0.97      0.97      0.97       645\n",
      "\n"
     ]
    }
   ],
   "source": [
    "\n",
    "# Generate the classification report\n",
    "report = classification_report(all_labels, all_predictions, target_names=['processed_Arm', 'processed_bs', 'processed_ce', 'processed_dr',\n",
    "    'processed_fg', 'processed_mfs', 'processed_ms',\n",
    "    'processed_sq', 'processed_tw', 'processed_sac', 'processed_tr'])\n",
    "print(report)\n",
    "\n"
   ]
  },
  {
   "cell_type": "code",
   "execution_count": null,
   "id": "559569a7",
   "metadata": {},
   "outputs": [],
   "source": []
  }
 ],
 "metadata": {
  "kernelspec": {
   "display_name": "conda_pytorch_p310",
   "language": "python",
   "name": "conda_pytorch_p310"
  },
  "language_info": {
   "codemirror_mode": {
    "name": "ipython",
    "version": 3
   },
   "file_extension": ".py",
   "mimetype": "text/x-python",
   "name": "python",
   "nbconvert_exporter": "python",
   "pygments_lexer": "ipython3",
   "version": "3.10.14"
  }
 },
 "nbformat": 4,
 "nbformat_minor": 5
}
